{
 "cells": [
  {
   "cell_type": "code",
   "execution_count": null,
   "metadata": {},
   "outputs": [
    {
     "name": "stdout",
     "output_type": "stream",
     "text": [
      "{\n",
      "    \"output\": [\n",
      "        [\n",
      "            2000,\n",
      "            2001,\n",
      "            2002,\n",
      "            2003,\n",
      "            2004,\n",
      "            2005,\n",
      "            2006,\n",
      "            2007,\n",
      "            2008,\n",
      "            2009,\n",
      "            2010,\n",
      "            2011,\n",
      "            2012,\n",
      "            2013,\n",
      "            2014,\n",
      "            2015,\n",
      "            2016\n",
      "        ],\n",
      "        [\n",
      "            8.0,\n",
      "            13.0,\n",
      "            13.0,\n",
      "            7.0,\n",
      "            12.0,\n",
      "            11.0,\n",
      "            12.0,\n",
      "            9.0,\n",
      "            8.0,\n",
      "            8.0,\n",
      "            6.0,\n",
      "            7.0,\n",
      "            5.0,\n",
      "            7.0,\n",
      "            9.0,\n",
      "            6.0,\n",
      "            8.222222222222221\n",
      "        ],\n",
      "        95,\n",
      "        \"F\"\n",
      "    ]\n",
      "}\n",
      "\n"
     ]
    }
   ],
   "source": [
    "from requests import put\n",
    "x = put('http://dfc26099.ngrok.io', data={\"list\" : [\"Andorra\"]})\n",
    "print(x.text)"
   ]
  },
  {
   "cell_type": "code",
   "execution_count": null,
   "metadata": {},
   "outputs": [],
   "source": []
  }
 ],
 "metadata": {
  "kernelspec": {
   "display_name": "Python 3",
   "language": "python",
   "name": "python3"
  },
  "language_info": {
   "codemirror_mode": {
    "name": "ipython",
    "version": 3
   },
   "file_extension": ".py",
   "mimetype": "text/x-python",
   "name": "python",
   "nbconvert_exporter": "python",
   "pygments_lexer": "ipython3",
   "version": "3.6.5"
  }
 },
 "nbformat": 4,
 "nbformat_minor": 2
}
